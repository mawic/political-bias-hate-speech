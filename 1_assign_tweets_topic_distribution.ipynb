{
 "cells": [
  {
   "cell_type": "code",
   "execution_count": null,
   "metadata": {},
   "outputs": [],
   "source": [
    "import pandas as pd\n",
    "import numpy as np\n",
    "import gensim\n",
    "\n",
    "from helper.data_loading import *\n",
    "from helper.preprocessing import *\n",
    "from helper.topic_model_helper import *\n",
    "\n",
    "pd.set_option('display.max_colwidth', -1)\n",
    "\n",
    "#load model,dict,create corpus\n",
    "model = gensim.models.ldamodel.LdaModel.load(\"output/topic_model/model_lda\")\n",
    "dictionary = gensim.corpora.Dictionary.load(\"output/topic_model/dict\")"
   ]
  },
  {
   "cell_type": "markdown",
   "metadata": {},
   "source": [
    "### Prepare  data for assigning topic distributions"
   ]
  },
  {
   "cell_type": "code",
   "execution_count": null,
   "metadata": {},
   "outputs": [],
   "source": [
    "### GermEval\n",
    "germEval = get_all_germEval_data()\n",
    "germEval = assign_topic_distribution(germEval, model, dictionary)\n",
    "germEval = assign_topic_and_probability(germEval)\n",
    "\n",
    "germEval.to_pickle(\"data/GERMEVAL_with_topic_distribution.pkl\")"
   ]
  },
  {
   "cell_type": "code",
   "execution_count": null,
   "metadata": {
    "collapsed": true
   },
   "outputs": [],
   "source": [
    "### Left\n",
    "\n",
    "left = pd.read_pickle(\"data/bipolarity_crawler-master/final_tweets/dataset_LEFT.pkl\")\n",
    "left = assign_topic_distribution(left, model, dictionary)\n",
    "left  = assign_topic_and_probability(left)\n",
    "\n",
    "left.to_pickle(\"data/LEFT_with_topic_distribution.pkl\")\n",
    "\n",
    "### Right\n",
    "\n",
    "right = pd.read_pickle(\"data/bipolarity_crawler-master/final_tweets/dataset_RIGHT.pkl\")\n",
    "right = assign_topic_distribution(right, model, dictionary)\n",
    "right = assign_topic_and_probability(right)\n",
    "\n",
    "right.to_pickle(\"data/RIGHT_with_topic_distribution.pkl\")\n",
    "\n",
    "### Neutral\n",
    "\n",
    "neutral = pd.read_pickle(\"data/bipolarity_crawler-master/final_tweets/dataset_NEUTRAL.pkl\")\n",
    "neutral = assign_topic_distribution(neutral, model, dictionary)\n",
    "neutral = assign_topic_and_probability(neutral)\n",
    "\n",
    "neutral.to_pickle(\"data/NEUTRAL_with_topic_distribution.pkl\")"
   ]
  },
  {
   "cell_type": "code",
   "execution_count": null,
   "metadata": {},
   "outputs": [],
   "source": [
    "pd.set_option('display.max_colwidth', -1)"
   ]
  },
  {
   "cell_type": "code",
   "execution_count": null,
   "metadata": {},
   "outputs": [],
   "source": [
    "neutral = pd.read_pickle(\"data/NEUTRAL_with_topic_distribution.pkl\")"
   ]
  },
  {
   "cell_type": "code",
   "execution_count": null,
   "metadata": {},
   "outputs": [],
   "source": [
    "neutral.head()"
   ]
  },
  {
   "cell_type": "code",
   "execution_count": null,
   "metadata": {},
   "outputs": [],
   "source": []
  },
  {
   "cell_type": "code",
   "execution_count": null,
   "metadata": {},
   "outputs": [],
   "source": []
  }
 ],
 "metadata": {
  "kernelspec": {
   "display_name": "tensorflow2",
   "language": "python",
   "name": "tensorflow2"
  },
  "language_info": {
   "codemirror_mode": {
    "name": "ipython",
    "version": 3
   },
   "file_extension": ".py",
   "mimetype": "text/x-python",
   "name": "python",
   "nbconvert_exporter": "python",
   "pygments_lexer": "ipython3",
   "version": "3.7.5"
  }
 },
 "nbformat": 4,
 "nbformat_minor": 2
}