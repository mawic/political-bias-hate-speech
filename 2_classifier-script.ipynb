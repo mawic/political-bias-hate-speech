{
 "cells": [
  {
   "cell_type": "code",
   "execution_count": null,
   "metadata": {},
   "outputs": [],
   "source": [
    "import pandas as pd\n",
    "import numpy as np\n",
    "import pickle\n",
    "import argparse\n",
    "\n",
    "from helper.data_loading import *\n",
    "from helper.preprocessing import *\n",
    "from helper.cross_val_model import *\n",
    "from helper.classifier_helper import *\n",
    "\n",
    "\n",
    "if __name__ == '__main__':\n",
    "    parser = argparse.ArgumentParser()\n",
    "    parser.add_argument(\"-o\", \"--output\", dest=\"output\", help=\"output\")\n",
    "    parser.add_argument(\"-d\", \"--dataset\", dest=\"dataset\",help=\"dataset\")\n",
    "    \n",
    "    parser.add_argument(\"-f\", \"--folds_per_run\", dest=\"folds_per_run\", help=\"folds_per_run\", default=5)\n",
    "    parser.add_argument(\"-r\", \"--runs\", dest=\"runs\",help=\"runs\", default=1)\n",
    "    parser.add_argument(\"-s\", \"--steps_data_exchange\", dest=\"steps_data_exchange\",help=\"steps_data_exchange\", default=5)\n",
    "\n",
    "    args = parser.parse_args()\n",
    "    \n",
    "    print(\"Args:\\n\",args)\n",
    "    \n",
    "    if(args.dataset==\"LEFT\"):\n",
    "        dataset = pd.read_pickle('data/LEFT_with_topic_distribution.pkl')\n",
    "    elif(args.dataset==\"RIGHT\"):\n",
    "        dataset = pd.read_pickle('data/RIGHT_with_topic_distribution.pkl')\n",
    "    elif(args.dataset==\"NEUTRAL\"):\n",
    "        dataset = pd.read_pickle('data/NEUTRAL_with_topic_distribution.pkl')\n",
    "    \n",
    "    germEval = pd.read_pickle('data/GERMEVAL_with_topic_distribution.pkl')\n",
    "    germEval = germEval.rename(columns={'label_1': 'label'})\n",
    "\n",
    "    germEval_topic_distribution = get_topic_distribution_over_dataset(germEval.loc[germEval.label==\"OTHER\",:])\n",
    "    print(\"germEval topic distribution:\\n\",germEval_topic_distribution, \"\\n\")\n",
    "\n",
    "    data_pool = create_sample_pool(dataset, germEval_topic_distribution, sample_factor = 5)\n",
    "\n",
    "    print(\"\\nStart dataset:\\n\")\n",
    "    result, ids_ = run_experiment_partly_data_exchange(data_pool,\n",
    "                                                       germEval,\n",
    "                                                       germEval_topic_distribution,\n",
    "                                                       folds_per_run=int(args.folds_per_run),\n",
    "                                                       runs=int(args.runs),\n",
    "                                                       steps_data_exchange=int(args.steps_data_exchange)) \n",
    "    \n",
    "    \n",
    "    with open(args.output+\"_result.pkl\", 'wb') as f:\n",
    "        pickle.dump(result, f)\n",
    "\n",
    "    with open(args.output+\"_ids.pkl\", 'wb') as f:\n",
    "        pickle.dump(ids_, f)\n"
   ]
  },
  {
   "cell_type": "code",
   "execution_count": null,
   "metadata": {},
   "outputs": [],
   "source": []
  }
 ],
 "metadata": {
  "kernelspec": {
   "display_name": "tensorflow2",
   "language": "python",
   "name": "tensorflow2"
  },
  "language_info": {
   "codemirror_mode": {
    "name": "ipython",
    "version": 3
   },
   "file_extension": ".py",
   "mimetype": "text/x-python",
   "name": "python",
   "nbconvert_exporter": "python",
   "pygments_lexer": "ipython3",
   "version": "3.7.5"
  }
 },
 "nbformat": 4,
 "nbformat_minor": 2
}