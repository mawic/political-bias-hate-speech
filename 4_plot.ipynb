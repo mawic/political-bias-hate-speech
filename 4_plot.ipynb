{
 "cells": [
  {
   "cell_type": "code",
   "execution_count": null,
   "metadata": {},
   "outputs": [],
   "source": [
    "import numpy as np\n",
    "import pandas as pd\n",
    "import pickle\n",
    "import statistics\n",
    "from scipy import stats\n",
    "\n",
    "\n",
    "from matplotlib import pyplot as plt\n",
    "import numpy as np\n",
    "from matplotlib.lines import Line2D   \n",
    "\n",
    "import matplotlib.colors as mcolors\n",
    "cols = [color for name, color in mcolors.TABLEAU_COLORS.items()] \n",
    "\n",
    "from helper.helper_plots import *\n",
    "\n",
    "pd.set_option('display.max_colwidth', -1)"
   ]
  },
  {
   "cell_type": "code",
   "execution_count": null,
   "metadata": {},
   "outputs": [],
   "source": [
    "left_result,left_ids = get_result_files(\"output/classifier/left/\")\n",
    "right_result,right_ids = get_result_files(\"output/classifier/right/\")\n",
    "neutral_result,neutral_ids = get_result_files(\"output/classifier/neutral/\")\n",
    "\n",
    "left_ids = get_id_dict(left_ids)\n",
    "right_ids = get_id_dict(right_ids)\n",
    "neutral_ids = get_id_dict(neutral_ids)\n",
    "\n",
    "left_result = get_result_dict(left_result)\n",
    "right_result = get_result_dict(right_result)\n",
    "neutral_result = get_result_dict(neutral_result)"
   ]
  },
  {
   "cell_type": "markdown",
   "metadata": {},
   "source": [
    "### Boxplot"
   ]
  },
  {
   "cell_type": "code",
   "execution_count": null,
   "metadata": {},
   "outputs": [],
   "source": [
    "fig1, ax1 = plt.subplots(figsize=(15, 8))\n",
    "ax1.set_title('Left, Neutral and Right F1-scores - 100% data replacement')\n",
    "ax1.set_xlabel('Datasets')\n",
    "ax1.set_ylabel('F1-score - Overall')\n",
    "\n",
    "ax1.boxplot([right_result[\"overall\"][3], left_result[\"overall\"][3], neutral_result[\"overall\"][3]])\n",
    "ax1.yaxis.grid(color='gray', linestyle='dashed')\n",
    "\n",
    "plt.xticks([1, 2, 3], ['Right', 'Left',\"Neutral\"])\n",
    "\n",
    "plt.show()\n",
    "\n",
    "fig1.savefig(\"output/figures/boxplot.pdf\")"
   ]
  },
  {
   "cell_type": "code",
   "execution_count": null,
   "metadata": {},
   "outputs": [],
   "source": [
    "len(neutral_result[\"overall\"][3])"
   ]
  },
  {
   "cell_type": "markdown",
   "metadata": {},
   "source": [
    "### Graph - Overall"
   ]
  },
  {
   "cell_type": "code",
   "execution_count": null,
   "metadata": {},
   "outputs": [],
   "source": [
    "x = [0.0,0.33,0.66,1]\n",
    "\n",
    "left_overall_mean, left_overall_stdev = get_statistics(left_result[\"overall\"])\n",
    "right_overall_mean , right_overall_stdev = get_statistics(right_result[\"overall\"])\n",
    "neutral_overall_mean , neutral_overall_stdev = get_statistics(neutral_result[\"overall\"])\n",
    "\n",
    "#plot npmi score\n",
    "fig, ax = plt.subplots(figsize=(15, 8))\n",
    "\n",
    "ax.plot(x, left_overall_mean, lw=2, label='Left data', color=\"#E46C0A\")\n",
    "ax.plot(x, right_overall_mean, lw=2, label='Right data', color=\"#31859C\")\n",
    "ax.plot(x, neutral_overall_mean, lw=2, label='Neutral data', color=\"#604A7B\")\n",
    "\n",
    "ax.fill_between(x, left_overall_mean+left_overall_stdev, left_overall_mean-left_overall_stdev, facecolor=\"#E46C0A\", alpha=0.5)\n",
    "ax.fill_between(x, right_overall_mean+right_overall_stdev, right_overall_mean-right_overall_stdev, facecolor=\"#31859C\", alpha=0.5)\n",
    "ax.fill_between(x, neutral_overall_mean+neutral_overall_stdev, neutral_overall_mean-neutral_overall_stdev, facecolor=\"#604A7B\", alpha=0.5)\n",
    "\n",
    "ax.set_title(r'Left, Neutral and Right F1-scores - [0%,33%,66%,100%] data replacement')\n",
    "ax.legend(loc='upper left')\n",
    "ax.set_xlabel('Percentage of data replacement')\n",
    "ax.set_ylabel('F1-score - Overall')\n",
    "ax.yaxis.grid(color='gray', linestyle='dashed')\n",
    "\n",
    "plt.show()               \n",
    "\n",
    "fig.savefig(\"output/figures/overall_rolling.pdf\")"
   ]
  },
  {
   "cell_type": "code",
   "execution_count": null,
   "metadata": {},
   "outputs": [],
   "source": [
    "94/7"
   ]
  },
  {
   "cell_type": "markdown",
   "metadata": {},
   "source": [
    "### Graph - Offense"
   ]
  },
  {
   "cell_type": "code",
   "execution_count": null,
   "metadata": {},
   "outputs": [],
   "source": [
    "x = [0.0,0.33,0.66,1]\n",
    "\n",
    "left_overall_mean, left_overall_stdev = get_statistics(left_result[\"offense\"])\n",
    "right_overall_mean , right_overall_stdev = get_statistics(right_result[\"offense\"])\n",
    "neutral_overall_mean , neutral_overall_stdev = get_statistics(neutral_result[\"offense\"])\n",
    "\n",
    "#plot npmi score\n",
    "fig, ax = plt.subplots(figsize=(15, 8))\n",
    "\n",
    "ax.plot(x, left_overall_mean, lw=2, label='Left data', color=\"#E46C0A\")\n",
    "ax.plot(x, right_overall_mean, lw=2, label='Right data', color=\"#31859C\")\n",
    "ax.plot(x, neutral_overall_mean, lw=2, label='Neutral data', color=\"#604A7B\")\n",
    "\n",
    "ax.fill_between(x, left_overall_mean+left_overall_stdev, left_overall_mean-left_overall_stdev, facecolor=\"#E46C0A\", alpha=0.5)\n",
    "ax.fill_between(x, right_overall_mean+right_overall_stdev, right_overall_mean-right_overall_stdev, facecolor=\"#31859C\", alpha=0.5)\n",
    "ax.fill_between(x, neutral_overall_mean+neutral_overall_stdev, neutral_overall_mean-neutral_overall_stdev, facecolor=\"#604A7B\", alpha=0.5)\n",
    "\n",
    "ax.set_title(r'Left, Neutral and Right F1-scores - [0%,33%,66%,100%] data replacement')\n",
    "ax.legend(loc='upper left')\n",
    "ax.set_xlabel('Percentage of data replacement')\n",
    "ax.set_ylabel('F1-score - Offensive')\n",
    "ax.yaxis.grid(color='gray', linestyle='dashed')\n",
    "\n",
    "plt.show()               \n",
    "\n",
    "fig.savefig(\"output/figures/offense_rolling.pdf\")"
   ]
  },
  {
   "cell_type": "code",
   "execution_count": null,
   "metadata": {},
   "outputs": [],
   "source": [
    "neutral_overall_mean"
   ]
  },
  {
   "cell_type": "code",
   "execution_count": null,
   "metadata": {},
   "outputs": [],
   "source": [
    "statistics.mean(right_overall_mean)"
   ]
  },
  {
   "cell_type": "markdown",
   "metadata": {},
   "source": [
    "### Graph - None"
   ]
  },
  {
   "cell_type": "code",
   "execution_count": null,
   "metadata": {},
   "outputs": [],
   "source": [
    "x = [0.0,0.33,0.66,1]\n",
    "\n",
    "left_overall_mean, left_overall_stdev = get_statistics(left_result[\"none\"])\n",
    "right_overall_mean , right_overall_stdev = get_statistics(right_result[\"none\"])\n",
    "neutral_overall_mean , neutral_overall_stdev = get_statistics(neutral_result[\"none\"])\n",
    "\n",
    "#plot npmi score\n",
    "fig, ax = plt.subplots(figsize=(15, 8))\n",
    "\n",
    "ax.plot(x, left_overall_mean, lw=2, label='Left data', color=\"#E46C0A\")\n",
    "ax.plot(x, right_overall_mean, lw=2, label='Right data', color=\"#31859C\")\n",
    "ax.plot(x, neutral_overall_mean, lw=2, label='Neutral data', color=\"#604A7B\")\n",
    "\n",
    "ax.fill_between(x, left_overall_mean+left_overall_stdev, left_overall_mean-left_overall_stdev, facecolor=\"#E46C0A\", alpha=0.5)\n",
    "ax.fill_between(x, right_overall_mean+right_overall_stdev, right_overall_mean-right_overall_stdev, facecolor=\"#31859C\", alpha=0.5)\n",
    "ax.fill_between(x, neutral_overall_mean+neutral_overall_stdev, neutral_overall_mean-neutral_overall_stdev, facecolor=\"#604A7B\", alpha=0.5)\n",
    "\n",
    "ax.set_title(r'Left, Neutral and Right F1-scores - [0%,33%,66%,100%] data replacement')\n",
    "ax.legend(loc='upper left')\n",
    "ax.set_xlabel('Percentage of data replacement')\n",
    "ax.set_ylabel('F1-score - Non-Offensive')\n",
    "ax.yaxis.grid(color='gray', linestyle='dashed')\n",
    "\n",
    "plt.show()               \n",
    "\n",
    "fig.savefig(\"output/figures/none_rolling.pdf\")"
   ]
  },
  {
   "cell_type": "code",
   "execution_count": null,
   "metadata": {},
   "outputs": [],
   "source": [
    "neutral_overall_mean"
   ]
  },
  {
   "cell_type": "markdown",
   "metadata": {},
   "source": [
    "### Statistical tests"
   ]
  },
  {
   "cell_type": "code",
   "execution_count": null,
   "metadata": {},
   "outputs": [],
   "source": [
    "def perform_test(data1,data2):\n",
    "    shapiro1 = list(map(lambda x: round(x,3), stats.shapiro(data1)))\n",
    "    shapiro2 = list(map(lambda x: round(x,3), stats.shapiro(data2)))\n",
    "    levene1 = list(map(lambda x: round(x,3), stats.bartlett(data1, data2)))\n",
    "    ks_2samp = list(map(lambda x: round(x,3), stats.ks_2samp(data1, data2)))\n",
    "    print(ks_2samp)\n",
    "    print(\"Data Normaly Distributed: data1: {}, data2: {}\".format(shapiro1[1],shapiro2[1]))\n",
    "    print(\" Equal Variance: \\n  P-Value: {}\".format(levene1[1]))\n",
    "    print(\" T-Test:\\n  T-Value: {}\\n  P-Value: {}\\n\".format(ks_2samp[0],ks_2samp[1]))\n",
    "\n",
    "print(\"Right and Left\")\n",
    "perform_test(right_result[\"overall\"][3],left_result[\"overall\"][3])\n",
    "\n",
    "print(\"Right and Neutral\")\n",
    "perform_test(right_result[\"overall\"][3],neutral_result[\"overall\"][3])\n",
    "\n",
    "print(\"Left and Neutral\")\n",
    "perform_test(left_result[\"overall\"][3],neutral_result[\"overall\"][3])"
   ]
  },
  {
   "cell_type": "code",
   "execution_count": null,
   "metadata": {},
   "outputs": [],
   "source": []
  },
  {
   "cell_type": "code",
   "execution_count": null,
   "metadata": {},
   "outputs": [],
   "source": []
  }
 ],
 "metadata": {
  "kernelspec": {
   "display_name": "tensorflow2",
   "language": "python",
   "name": "tensorflow2"
  },
  "language_info": {
   "codemirror_mode": {
    "name": "ipython",
    "version": 3
   },
   "file_extension": ".py",
   "mimetype": "text/x-python",
   "name": "python",
   "nbconvert_exporter": "python",
   "pygments_lexer": "ipython3",
   "version": "3.7.5"
  }
 },
 "nbformat": 4,
 "nbformat_minor": 2
}